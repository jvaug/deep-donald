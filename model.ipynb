{
 "cells": [
  {
   "cell_type": "code",
   "execution_count": 86,
   "metadata": {
    "collapsed": false
   },
   "outputs": [],
   "source": [
    "import numpy as np\n",
    "import pandas as pd\n",
    "\n",
    "import xgboost\n",
    "\n",
    "from sklearn.model_selection import train_test_split, GridSearchCV\n",
    "from sklearn.feature_extraction.text import TfidfVectorizer, CountVectorizer\n",
    "\n",
    "from sklearn.linear_model import LogisticRegression\n",
    "from sklearn.ensemble import GradientBoostingClassifier\n",
    "from sklearn.ensemble import AdaBoostClassifier\n",
    "from sklearn.ensemble import RandomForestClassifier\n",
    "from sklearn.ensemble import ExtraTreesClassifier, VotingClassifier\n",
    "from sklearn.metrics import confusion_matrix, classification_report, \\\n",
    "recall_score, make_scorer, auc, roc_curve\n",
    "from sklearn.ensemble import BaggingClassifier\n",
    "\n",
    "from sklearn.externals import joblib"
   ]
  },
  {
   "cell_type": "code",
   "execution_count": 2,
   "metadata": {
    "collapsed": false
   },
   "outputs": [],
   "source": [
    "# https://github.com/bpb27/trump-tweet-archive/tree/master/data/realdonaldtrump\n",
    "# data gleaned from above on 4/5/17\n",
    "\n",
    "list_of_dfs = []\n",
    "\n",
    "for year in range(2009,2018):\n",
    "    df = pd.read_json('data/realdonaldtrump/%s.json' % year)\n",
    "    list_of_dfs.append(df)"
   ]
  },
  {
   "cell_type": "code",
   "execution_count": 3,
   "metadata": {
    "collapsed": true
   },
   "outputs": [],
   "source": [
    "df = pd.concat(list_of_dfs, axis=0)"
   ]
  },
  {
   "cell_type": "code",
   "execution_count": 4,
   "metadata": {
    "collapsed": false
   },
   "outputs": [],
   "source": [
    "df['is_donald'] = df['source'].apply(lambda x: 1 if x == 'Twitter for Android' else 0)"
   ]
  },
  {
   "cell_type": "code",
   "execution_count": 5,
   "metadata": {
    "collapsed": false
   },
   "outputs": [
    {
     "data": {
      "text/plain": [
       "0    16245\n",
       "1    14545\n",
       "Name: is_donald, dtype: int64"
      ]
     },
     "execution_count": 5,
     "metadata": {},
     "output_type": "execute_result"
    }
   ],
   "source": [
    "df.is_donald.value_counts()"
   ]
  },
  {
   "cell_type": "code",
   "execution_count": 6,
   "metadata": {
    "collapsed": false
   },
   "outputs": [
    {
     "data": {
      "text/plain": [
       "Index(['created_at', 'favorite_count', 'id_str', 'in_reply_to_user_id_str',\n",
       "       'is_retweet', 'retweet_count', 'source', 'text', 'is_donald'],\n",
       "      dtype='object')"
      ]
     },
     "execution_count": 6,
     "metadata": {},
     "output_type": "execute_result"
    }
   ],
   "source": [
    "df.columns"
   ]
  },
  {
   "cell_type": "code",
   "execution_count": 7,
   "metadata": {
    "collapsed": false
   },
   "outputs": [],
   "source": [
    "df1 = df[df['is_donald'] == 1].copy()\n",
    "df2 = df[df['is_donald'] == 0].copy()"
   ]
  },
  {
   "cell_type": "code",
   "execution_count": 8,
   "metadata": {
    "collapsed": false
   },
   "outputs": [],
   "source": [
    "df1['is_donald'] = df1['text'].apply(lambda x: 0 if x[:2] == \"\\\"@\" else 1)"
   ]
  },
  {
   "cell_type": "code",
   "execution_count": 9,
   "metadata": {
    "collapsed": true
   },
   "outputs": [],
   "source": [
    "df = pd.concat([df1,df2])"
   ]
  },
  {
   "cell_type": "code",
   "execution_count": 10,
   "metadata": {
    "collapsed": false
   },
   "outputs": [
    {
     "data": {
      "text/plain": [
       "(30790, 9)"
      ]
     },
     "execution_count": 10,
     "metadata": {},
     "output_type": "execute_result"
    }
   ],
   "source": [
    "df.shape"
   ]
  },
  {
   "cell_type": "code",
   "execution_count": 11,
   "metadata": {
    "collapsed": false
   },
   "outputs": [
    {
     "data": {
      "text/plain": [
       "0.1517375771354336"
      ]
     },
     "execution_count": 11,
     "metadata": {},
     "output_type": "execute_result"
    }
   ],
   "source": [
    "np.mean(df.is_donald)"
   ]
  },
  {
   "cell_type": "code",
   "execution_count": 13,
   "metadata": {
    "collapsed": false
   },
   "outputs": [
    {
     "data": {
      "text/plain": [
       "Index(['created_at', 'favorite_count', 'id_str', 'in_reply_to_user_id_str',\n",
       "       'is_retweet', 'retweet_count', 'source', 'text', 'is_donald'],\n",
       "      dtype='object')"
      ]
     },
     "execution_count": 13,
     "metadata": {},
     "output_type": "execute_result"
    }
   ],
   "source": [
    "df.columns"
   ]
  },
  {
   "cell_type": "code",
   "execution_count": 15,
   "metadata": {
    "collapsed": true
   },
   "outputs": [],
   "source": [
    "cv = CountVectorizer(max_features = 2000, ngram_range=(1,3))"
   ]
  },
  {
   "cell_type": "code",
   "execution_count": 16,
   "metadata": {
    "collapsed": true
   },
   "outputs": [],
   "source": [
    "cv_out = cv.fit_transform(df.text.values)\n"
   ]
  },
  {
   "cell_type": "code",
   "execution_count": 25,
   "metadata": {
    "collapsed": false
   },
   "outputs": [
    {
     "data": {
      "text/plain": [
       "{'have': 645,\n",
       " 'happy': 632,\n",
       " 'successful': 1485,\n",
       " 'and': 84,\n",
       " 'new': 1066,\n",
       " 'year': 1954,\n",
       " 'new year': 1069,\n",
       " 'when': 1873,\n",
       " 'it': 815,\n",
       " 'comes': 312,\n",
       " 'to': 1659,\n",
       " 'money': 1024,\n",
       " 'even': 463,\n",
       " 'life': 892,\n",
       " 'protect': 1260,\n",
       " 'the': 1542,\n",
       " 'will': 1895,\n",
       " 'take': 1496,\n",
       " 'care': 271,\n",
       " 'of': 1106,\n",
       " 'when it': 1875,\n",
       " 'and the': 98,\n",
       " 'spend': 1457,\n",
       " 'your': 1995,\n",
       " 'last': 866,\n",
       " 'day': 367,\n",
       " '2013': 14,\n",
       " 'you': 1961,\n",
       " 'make': 952,\n",
       " 'in': 734,\n",
       " '2014': 15,\n",
       " 'best': 201,\n",
       " 'ever': 467,\n",
       " 'you will': 1992,\n",
       " 'will make': 1906,\n",
       " 'to make': 1674,\n",
       " 'make it': 955,\n",
       " 'name': 1048,\n",
       " 'from': 553,\n",
       " 'global': 580,\n",
       " 'warming': 1829,\n",
       " 'climate': 300,\n",
       " 'change': 286,\n",
       " 'was': 1830,\n",
       " 'no': 1080,\n",
       " 'longer': 913,\n",
       " 'working': 1938,\n",
       " 'lost': 928,\n",
       " 'global warming': 581,\n",
       " 'what': 1867,\n",
       " 'hell': 670,\n",
       " 'is': 784,\n",
       " 'going': 587,\n",
       " 'on': 1135,\n",
       " 'with': 1921,\n",
       " 'building': 238,\n",
       " 'are': 120,\n",
       " 'total': 1713,\n",
       " 'job': 835,\n",
       " 'what the': 1871,\n",
       " 'the hell': 1571,\n",
       " 'is going': 789,\n",
       " 'going on': 588,\n",
       " 'realdonaldtrump': 1287,\n",
       " 'two': 1772,\n",
       " 'world': 1939,\n",
       " 'leaders': 874,\n",
       " 'http': 710,\n",
       " 'co': 306,\n",
       " 'http co': 713,\n",
       " 'at': 145,\n",
       " 'record': 1339,\n",
       " 'many': 965,\n",
       " 'country': 342,\n",
       " '50': 21,\n",
       " 'zero': 1999,\n",
       " 'wind': 1914,\n",
       " 'large': 863,\n",
       " 'of the': 1114,\n",
       " 'the country': 1554,\n",
       " 'we': 1842,\n",
       " 'focus': 512,\n",
       " 'like': 894,\n",
       " 'never': 1063,\n",
       " 'before': 192,\n",
       " 'if': 719,\n",
       " 'do': 398,\n",
       " 'that': 1531,\n",
       " 'complete': 317,\n",
       " 'victory': 1802,\n",
       " 'all': 53,\n",
       " 'in the': 753,\n",
       " 'we will': 1853,\n",
       " 'if we': 724,\n",
       " 'that we': 1538,\n",
       " 'will have': 1905,\n",
       " 'in all': 736,\n",
       " 're': 1277,\n",
       " 'coming': 313,\n",
       " 'up': 1781,\n",
       " 'really': 1337,\n",
       " 'important': 732,\n",
       " 'despite': 387,\n",
       " 'so': 1435,\n",
       " 'stupid': 1483,\n",
       " 'being': 195,\n",
       " 'made': 946,\n",
       " 'washington': 1834,\n",
       " 'we re': 1851,\n",
       " 'on the': 1144,\n",
       " 'the new': 1579,\n",
       " 'it is': 818,\n",
       " 'is really': 802,\n",
       " 'so many': 1436,\n",
       " 'in washington': 758,\n",
       " 'don': 412,\n",
       " 'want': 1823,\n",
       " 'be': 169,\n",
       " 'off': 1122,\n",
       " 'they': 1615,\n",
       " 'having': 653,\n",
       " 'too': 1710,\n",
       " 'much': 1038,\n",
       " 'fun': 558,\n",
       " 'fame': 487,\n",
       " 'want to': 1824,\n",
       " 'to be': 1661,\n",
       " 'off the': 1123,\n",
       " 'they are': 1616,\n",
       " 'and that': 97,\n",
       " 'that is': 1534,\n",
       " 'should': 1421,\n",
       " 'focused': 514,\n",
       " 'beautiful': 186,\n",
       " 'air': 50,\n",
       " 'not': 1086,\n",
       " 'business': 241,\n",
       " 'we should': 1852,\n",
       " 'should be': 1422,\n",
       " 'trying': 1757,\n",
       " 'free': 548,\n",
       " 'has': 637,\n",
       " 'turned': 1766,\n",
       " 'back': 160,\n",
       " 'massive': 974,\n",
       " 'trying to': 1758,\n",
       " 'could': 338,\n",
       " 'tonight': 1707,\n",
       " 'told': 1702,\n",
       " 'me': 981,\n",
       " 'see': 1400,\n",
       " 'celebrity': 280,\n",
       " 'apprentice': 116,\n",
       " 'she': 1416,\n",
       " 'would': 1943,\n",
       " 'great': 604,\n",
       " 'if you': 725,\n",
       " 'celebrity apprentice': 281,\n",
       " 'would be': 1944,\n",
       " 'be great': 173,\n",
       " 'trump': 1725,\n",
       " 'national': 1051,\n",
       " 'doral': 424,\n",
       " 'miami': 999,\n",
       " 'today': 1699,\n",
       " 'will be': 1896,\n",
       " 'at trump': 153,\n",
       " 'trump national': 1738,\n",
       " 'national doral': 1052,\n",
       " 'in miami': 742,\n",
       " 'at trump national': 154,\n",
       " 'trump national doral': 1739,\n",
       " 'thank': 1524,\n",
       " 'for': 517,\n",
       " 'response': 1354,\n",
       " 'live': 907,\n",
       " 'amp': 80,\n",
       " 'visit': 1808,\n",
       " 'host': 699,\n",
       " 'show': 1426,\n",
       " 'thank you': 1525,\n",
       " 'you for': 1969,\n",
       " 'for your': 535,\n",
       " 'you to': 1988,\n",
       " 'thank you for': 1526,\n",
       " 'you for your': 1970,\n",
       " 'as': 137,\n",
       " 'major': 951,\n",
       " 'fan': 489,\n",
       " 'people': 1197,\n",
       " 'south': 1449,\n",
       " 'africa': 39,\n",
       " 'my': 1042,\n",
       " 'love': 933,\n",
       " 'his': 686,\n",
       " 'now': 1093,\n",
       " 'the people': 1584,\n",
       " 'people of': 1200,\n",
       " 'all of': 54,\n",
       " 'of my': 1111,\n",
       " 'the people of': 1585,\n",
       " 'bad': 163,\n",
       " 'got': 600,\n",
       " 'their': 1608,\n",
       " 'because': 187,\n",
       " 'that the': 1535,\n",
       " 'because of': 189,\n",
       " 'christmas': 297,\n",
       " 'over': 1180,\n",
       " 'can': 258,\n",
       " 'go': 582,\n",
       " 'defeat': 379,\n",
       " 'hard': 634,\n",
       " 'we can': 1845,\n",
       " 'back to': 162,\n",
       " 'to the': 1690,\n",
       " 'hope': 695,\n",
       " 'everybody': 469,\n",
       " 'fantastic': 491,\n",
       " 'matter': 975,\n",
       " 'how': 706,\n",
       " 'tough': 1716,\n",
       " 'things': 1626,\n",
       " 'may': 976,\n",
       " 'remember': 1344,\n",
       " 'out': 1173,\n",
       " 'that you': 1541,\n",
       " 'man': 964,\n",
       " 'very': 1795,\n",
       " 'which': 1880,\n",
       " 'probably': 1256,\n",
       " 'why': 1891,\n",
       " 'him': 684,\n",
       " 'so much': 1437,\n",
       " 'an': 82,\n",
       " 'amazing': 68,\n",
       " 'an amazing': 83,\n",
       " 'after': 40,\n",
       " 'every': 468,\n",
       " 'start': 1464,\n",
       " 'thinking': 1632,\n",
       " 'big': 207,\n",
       " 'soon': 1447,\n",
       " 'possible': 1233,\n",
       " 'think': 1627,\n",
       " 'true': 1723,\n",
       " 'think big': 1628,\n",
       " 'good': 597,\n",
       " 'head': 662,\n",
       " 'heart': 669,\n",
       " 'always': 66,\n",
       " 'and good': 87,\n",
       " 'friend': 551,\n",
       " 'just': 844,\n",
       " 'also': 65,\n",
       " 'thanks': 1528,\n",
       " 'to you': 1697,\n",
       " 'everything': 471,\n",
       " 'seems': 1404,\n",
       " 'under': 1773,\n",
       " 'control': 333,\n",
       " 'fast': 493,\n",
       " 'enough': 450,\n",
       " 'realdonaldtrump if': 1302,\n",
       " 'you re': 1983,\n",
       " 'who': 1885,\n",
       " 'crazy': 352,\n",
       " 'steve': 1475,\n",
       " 'jobs': 837,\n",
       " 'realdonaldtrump the': 1321,\n",
       " 'that they': 1536,\n",
       " 'they can': 1617,\n",
       " 'the world': 1605,\n",
       " 'are the': 128,\n",
       " 'without': 1927,\n",
       " 'passion': 1191,\n",
       " 'energy': 447,\n",
       " 'anything': 113,\n",
       " 'you don': 1968,\n",
       " 'don have': 413,\n",
       " 'problems': 1258,\n",
       " 'another': 107,\n",
       " 'way': 1840,\n",
       " 'champion': 284,\n",
       " 'way to': 1841,\n",
       " 'think like': 1629,\n",
       " 'like champion': 896,\n",
       " 'so true': 1439,\n",
       " 'think like champion': 1630,\n",
       " 'try': 1756,\n",
       " 'learn': 878,\n",
       " 'other': 1166,\n",
       " 'own': 1182,\n",
       " 'your own': 1996,\n",
       " 'sometimes': 1445,\n",
       " 'did': 389,\n",
       " 'something': 1444,\n",
       " 'had': 625,\n",
       " 'done': 422,\n",
       " 'disaster': 394,\n",
       " 'look': 914,\n",
       " 'experience': 476,\n",
       " 'did you': 391,\n",
       " 'it would': 827,\n",
       " 'would have': 1945,\n",
       " 'out to': 1179,\n",
       " 'real': 1285,\n",
       " 'cool': 335,\n",
       " 'awesome': 159,\n",
       " 'donald': 415,\n",
       " 'nice': 1078,\n",
       " 'donald trump': 416,\n",
       " 'realdonaldtrump thank': 1318,\n",
       " 'you so': 1986,\n",
       " 'so nice': 1438,\n",
       " 'realdonaldtrump thank you': 1319,\n",
       " 'first': 507,\n",
       " 'time': 1654,\n",
       " 'trumptowerny': 1752,\n",
       " 'nyc': 1098,\n",
       " 'one': 1151,\n",
       " 'place': 1210,\n",
       " 'glad': 579,\n",
       " 'didn': 392,\n",
       " 'miss': 1012,\n",
       " 'must': 1040,\n",
       " 'first time': 508,\n",
       " 'in nyc': 747,\n",
       " 'fox': 543,\n",
       " 'friends': 552,\n",
       " 'tomorrow': 1705,\n",
       " 'morning': 1030,\n",
       " '00': 0,\n",
       " 'enjoy': 448,\n",
       " 'be on': 177,\n",
       " 'on fox': 1137,\n",
       " 'at 00': 146,\n",
       " 'hope you': 696,\n",
       " 'will be on': 1901,\n",
       " 'doing': 408,\n",
       " 'or': 1161,\n",
       " 'fair': 483,\n",
       " 'support': 1489,\n",
       " 'fired': 506,\n",
       " 'are you': 129,\n",
       " 'interview': 771,\n",
       " 'great interview': 610,\n",
       " 'interview with': 774,\n",
       " 'watching': 1839,\n",
       " 'congrats': 320,\n",
       " 'interview on': 773,\n",
       " 'can be': 259,\n",
       " 'congrats to': 321,\n",
       " 'especially': 457,\n",
       " 'york': 1960,\n",
       " 'gun': 623,\n",
       " 'with the': 1925,\n",
       " 'in new': 744,\n",
       " 'new york': 1070,\n",
       " 'you would': 1993,\n",
       " 'to have': 1668,\n",
       " 'in new york': 746,\n",
       " 'am': 67,\n",
       " 'check': 288,\n",
       " 'brand': 231,\n",
       " 'blue': 221,\n",
       " 'monster': 1025,\n",
       " 'spectacular': 1455,\n",
       " 'going to': 589,\n",
       " 'to trump': 1691,\n",
       " 'check out': 289,\n",
       " 'out the': 1177,\n",
       " 'blue monster': 222,\n",
       " 'mike': 1005,\n",
       " 'trump and': 1727,\n",
       " 'hey': 675,\n",
       " 'realdonaldtrump you': 1332,\n",
       " 'realdonaldtrump you re': 1334,\n",
       " 'raised': 1271,\n",
       " 'months': 1027,\n",
       " 'beat': 185,\n",
       " 'realdonaldtrump we': 1325,\n",
       " 'to go': 1667,\n",
       " 'alexsalmond': 52,\n",
       " 'terrorists': 1520,\n",
       " 'night': 1079,\n",
       " 'death': 374,\n",
       " 'do you': 402,\n",
       " 'history': 687,\n",
       " 'decision': 378,\n",
       " 'making': 963,\n",
       " 'maybe': 977,\n",
       " 'point': 1221,\n",
       " 'turbines': 1763,\n",
       " '25': 17,\n",
       " 'years': 1955,\n",
       " 'ago': 45,\n",
       " 'by': 249,\n",
       " 'killing': 856,\n",
       " 'released': 1343,\n",
       " 'it was': 824,\n",
       " 'years ago': 1956,\n",
       " 'work': 1936,\n",
       " 'get': 567,\n",
       " 'you get': 1971,\n",
       " 'mr': 1035,\n",
       " 'family': 488,\n",
       " 'you and': 1962,\n",
       " 'and your': 103,\n",
       " 'about': 26,\n",
       " 'art': 133,\n",
       " 'deal': 371,\n",
       " 'art of': 134,\n",
       " 'the deal': 1556,\n",
       " 'realdonaldtrump great': 1296,\n",
       " 'art of the': 135,\n",
       " 'of the deal': 1116,\n",
       " 'ask': 141,\n",
       " 'tweet': 1768,\n",
       " 'once': 1149,\n",
       " 'the best': 1548,\n",
       " 'hear': 666,\n",
       " 'those': 1641,\n",
       " 'killed': 855,\n",
       " 'lot': 929,\n",
       " 'news': 1071,\n",
       " 'is great': 792,\n",
       " 'great news': 613,\n",
       " 'person': 1204,\n",
       " 'wow': 1949,\n",
       " 'realdonaldtrump will': 1330,\n",
       " 'genius': 565,\n",
       " 'realdonaldtrump is': 1305,\n",
       " 'hate': 643,\n",
       " 'says': 1392,\n",
       " 'does': 404,\n",
       " 'most': 1032,\n",
       " 'part': 1188,\n",
       " 'but': 243,\n",
       " 'he': 654,\n",
       " 'businessman': 242,\n",
       " 'respect': 1352,\n",
       " 'for the': 532,\n",
       " 'the most': 1578,\n",
       " 'but he': 244,\n",
       " 'been': 191,\n",
       " 'strong': 1482,\n",
       " 'know': 859,\n",
       " 'started': 1465,\n",
       " 'negative': 1060,\n",
       " 'of your': 1121,\n",
       " 'don know': 414,\n",
       " 'few': 497,\n",
       " 'wonderful': 1933,\n",
       " 'it like': 819,\n",
       " 'collection': 307,\n",
       " 'shirts': 1418,\n",
       " 'ties': 1653,\n",
       " 'bought': 230,\n",
       " 'macys': 945,\n",
       " 'stop': 1477,\n",
       " 'the man': 1574,\n",
       " 'florida': 511,\n",
       " 'golf': 592,\n",
       " 'top': 1712,\n",
       " '10': 2,\n",
       " 'the great': 1568,\n",
       " 'in the world': 754,\n",
       " 'white': 1883,\n",
       " 'house': 705,\n",
       " 'health': 664,\n",
       " 'policies': 1223,\n",
       " 'obamacare': 1104,\n",
       " 'desperate': 386,\n",
       " 'white house': 1884,\n",
       " 'times': 1657,\n",
       " 'doesn': 406,\n",
       " 'forward': 540,\n",
       " 'there': 1611,\n",
       " 'forward to': 541,\n",
       " 'there is': 1613,\n",
       " 'governor': 603,\n",
       " 'won': 1930,\n",
       " 'any': 110,\n",
       " 'mr trump': 1036,\n",
       " 'help': 671,\n",
       " 'obama': 1101,\n",
       " 'stand': 1461,\n",
       " 'against': 44,\n",
       " 'us': 1786,\n",
       " 'to help': 1670,\n",
       " 'this': 1635,\n",
       " 'more': 1028,\n",
       " 'thought': 1642,\n",
       " 'better': 203,\n",
       " 'where': 1878,\n",
       " 'buy': 248,\n",
       " 'please': 1217,\n",
       " 'macy': 944,\n",
       " 'go to': 583,\n",
       " 'sure': 1491,\n",
       " 'trump is': 1736,\n",
       " 'you are': 1963,\n",
       " 'lives': 908,\n",
       " 'said': 1383,\n",
       " 'club': 303,\n",
       " 'realdonaldtrump my': 1312,\n",
       " 'keep': 850,\n",
       " 'tweeting': 1769,\n",
       " 'realdonaldtrump if you': 1303,\n",
       " 'guy': 624,\n",
       " 'sadly': 1381,\n",
       " 'chance': 285,\n",
       " 'dems': 385,\n",
       " 'he has': 656,\n",
       " 'loves': 939,\n",
       " 'them': 1609,\n",
       " 'huge': 716,\n",
       " 'say': 1390,\n",
       " 'to work': 1696,\n",
       " 'line': 901,\n",
       " 'here': 673,\n",
       " 'one of': 1152,\n",
       " 'who is': 1888,\n",
       " 'price': 1252,\n",
       " 'only': 1155,\n",
       " 'story': 1479,\n",
       " 'john': 839,\n",
       " 'government': 602,\n",
       " 'is that': 805,\n",
       " 'sorry': 1448,\n",
       " 'yourself': 1998,\n",
       " 'waste': 1835,\n",
       " 'move': 1033,\n",
       " 'next': 1073,\n",
       " 'the next': 1580,\n",
       " 'met': 997,\n",
       " 'give': 574,\n",
       " 'that was': 1537,\n",
       " 'give up': 575,\n",
       " 'greatest': 618,\n",
       " 'the greatest': 1569,\n",
       " 'you are the': 1964,\n",
       " 'least': 879,\n",
       " 'home': 690,\n",
       " 'agree': 46,\n",
       " 'should have': 1423,\n",
       " 'at least': 150,\n",
       " 'course': 346,\n",
       " 'long': 911,\n",
       " 'confidence': 319,\n",
       " 'gives': 577,\n",
       " 'twitter': 1771,\n",
       " 'haters': 644,\n",
       " 'these': 1614,\n",
       " 'face': 477,\n",
       " 'losers': 926,\n",
       " 'love the': 935,\n",
       " 'on twitter': 1147,\n",
       " 'to your': 1698,\n",
       " 'thinks': 1633,\n",
       " 'president': 1240,\n",
       " 'totally': 1714,\n",
       " 'incompetent': 761,\n",
       " 'president obama': 1244,\n",
       " 'obama is': 1103,\n",
       " 'luck': 941,\n",
       " 'estate': 460,\n",
       " 'biggest': 209,\n",
       " 'star': 1463,\n",
       " 'good luck': 598,\n",
       " 'on your': 1148,\n",
       " 'real estate': 1286,\n",
       " 'be the': 181,\n",
       " 'the biggest': 1550,\n",
       " 'of all': 1107,\n",
       " 'will be the': 1902,\n",
       " 'fraud': 547,\n",
       " 'is total': 810,\n",
       " 'worth': 1942,\n",
       " 'while': 1882,\n",
       " 'run': 1372,\n",
       " 'office': 1126,\n",
       " 'what do': 1868,\n",
       " 'run for': 1373,\n",
       " 'had great': 626,\n",
       " 'the year': 1607,\n",
       " 'of the year': 1117,\n",
       " 'politics': 1228,\n",
       " 'trump2016': 1745,\n",
       " 'the only': 1581,\n",
       " 'our': 1168,\n",
       " 'since': 1431,\n",
       " 'reagan': 1284,\n",
       " 'think you': 1631,\n",
       " 'realdonaldtrump he': 1298,\n",
       " 'he is': 657,\n",
       " 'china': 292,\n",
       " 'others': 1167,\n",
       " 'call': 252,\n",
       " 'words': 1935,\n",
       " 'anymore': 111,\n",
       " 'same': 1385,\n",
       " 'fighting': 500,\n",
       " 'hard to': 636,\n",
       " 'to keep': 1672,\n",
       " 'it all': 816,\n",
       " 'united': 1776,\n",
       " 'states': 1472,\n",
       " 'highest': 679,\n",
       " 'isn': 813,\n",
       " 'the united': 1598,\n",
       " 'united states': 1777,\n",
       " 'is now': 798,\n",
       " 'the united states': 1599,\n",
       " 'still': 1476,\n",
       " 'billions': 214,\n",
       " 'close': 302,\n",
       " 'were': 1864,\n",
       " 'seriously': 1413,\n",
       " 'worse': 1940,\n",
       " 'standing': 1462,\n",
       " 'know how': 860,\n",
       " 'they were': 1623,\n",
       " 'wife': 1894,\n",
       " 'party': 1190,\n",
       " 'lots': 931,\n",
       " 'of his': 1110,\n",
       " 'for my': 526,\n",
       " 'lots of': 932,\n",
       " 'signature': 1429,\n",
       " 'far': 492,\n",
       " 'the donald': 1558,\n",
       " 'is the': 806,\n",
       " 'is the best': 807,\n",
       " 'weekend': 1858,\n",
       " 'mind': 1010,\n",
       " 'lose': 924,\n",
       " 'ahead': 49,\n",
       " 'have great': 647,\n",
       " 'keep your': 853,\n",
       " 'numbers': 1096,\n",
       " 'dead': 370,\n",
       " 'love to': 936,\n",
       " 'to see': 1684,\n",
       " 'which is': 1881,\n",
       " 'crime': 356,\n",
       " 'mess': 995,\n",
       " 'waiting': 1821,\n",
       " 'is just': 794,\n",
       " 'believe': 196,\n",
       " 'pathetic': 1193,\n",
       " 'police': 1222,\n",
       " 'force': 536,\n",
       " 'yet': 1959,\n",
       " 'sign': 1428,\n",
       " 'such': 1486,\n",
       " 'can you': 266,\n",
       " 'you believe': 1965,\n",
       " 'believe that': 198,\n",
       " 'sad': 1380,\n",
       " 'thing': 1625,\n",
       " 'picture': 1207,\n",
       " 'by the': 250,\n",
       " 'is in': 793,\n",
       " 'this is': 1637,\n",
       " 'is one': 800,\n",
       " 'all over': 56,\n",
       " 'over the': 1181,\n",
       " 'is one of': 801,\n",
       " 'one of the': 1153,\n",
       " 'low': 940,\n",
       " 'wonder': 1932,\n",
       " 'is at': 786,\n",
       " 'all time': 59,\n",
       " 've': 1791,\n",
       " 'through': 1647,\n",
       " 'excellent': 472,\n",
       " 've been': 1792,\n",
       " 'trumpdoral': 1750,\n",
       " '14': 7,\n",
       " 'from the': 554,\n",
       " 'play': 1213,\n",
       " 'saturday': 1387,\n",
       " 'someone': 1443,\n",
       " 'agschneiderman': 48,\n",
       " 'badly': 164,\n",
       " 'playing': 1216,\n",
       " 'spent': 1459,\n",
       " 'the money': 1577,\n",
       " 'all of the': 55,\n",
       " 'dumb': 430,\n",
       " 'fire': 505,\n",
       " 'terrible': 1518,\n",
       " 'failing': 480,\n",
       " 'food': 516,\n",
       " 'for his': 523,\n",
       " 'aberdeen': 23,\n",
       " 'million': 1007,\n",
       " 'build': 237,\n",
       " 'just got': 845,\n",
       " 'the failing': 1563,\n",
       " 'act': 31,\n",
       " 'millions': 1008,\n",
       " 'losing': 927,\n",
       " 'plans': 1212,\n",
       " 'obamacare is': 1105,\n",
       " 'is not': 797,\n",
       " 'millions of': 1009,\n",
       " 'of people': 1113,\n",
       " 'people are': 1198,\n",
       " 'lies': 891,\n",
       " 'courses': 348,\n",
       " 'of the best': 1115,\n",
       " 'looked': 918,\n",
       " 'magazine': 950,\n",
       " 'around': 132,\n",
       " 'at the': 152,\n",
       " 'california': 251,\n",
       " 'to say': 1683,\n",
       " 'asking': 143,\n",
       " 'special': 1454,\n",
       " 'word': 1934,\n",
       " 'fact': 478,\n",
       " 'almost': 62,\n",
       " 'nothing': 1091,\n",
       " 'winning': 1917,\n",
       " 'about the': 28,\n",
       " 'the fact': 1562,\n",
       " 'like it': 897,\n",
       " 'll': 909,\n",
       " 'loser': 925,\n",
       " 'high': 677,\n",
       " 'positive': 1232,\n",
       " 'dinner': 393,\n",
       " 'mar': 967,\n",
       " 'lago': 862,\n",
       " 'charity': 287,\n",
       " 'tonight at': 1708,\n",
       " 'mar lago': 968,\n",
       " 'men': 994,\n",
       " 'like you': 900,\n",
       " 'than': 1522,\n",
       " 'including': 760,\n",
       " 'father': 494,\n",
       " 'left': 882,\n",
       " 'small': 1433,\n",
       " 'billion': 212,\n",
       " 'well': 1862,\n",
       " 'as well': 140,\n",
       " 'going to be': 590,\n",
       " 'realdonaldtrump what': 1327,\n",
       " 'never give': 1064,\n",
       " 'never give up': 1065,\n",
       " 'for realdonaldtrump': 531,\n",
       " 'realdonaldtrump for': 1293,\n",
       " 'universe': 1778,\n",
       " '2012': 13,\n",
       " 'during': 432,\n",
       " 'miss universe': 1013,\n",
       " 'congratulations': 322,\n",
       " 'win': 1912,\n",
       " 'to all': 1660,\n",
       " 'people in': 1199,\n",
       " 'your support': 1997,\n",
       " 'texas': 1521,\n",
       " 'and it': 92,\n",
       " 'mean': 986,\n",
       " 'must be': 1041,\n",
       " 'donaldjtrumpjr': 420,\n",
       " 'who will': 1889,\n",
       " 'the trump': 1596,\n",
       " 'some': 1441,\n",
       " 'saying': 1391,\n",
       " 'some of': 1442,\n",
       " 'put': 1264,\n",
       " 'down': 426,\n",
       " 'you can': 1966,\n",
       " 'smart': 1434,\n",
       " 'able': 24,\n",
       " 'able to': 25,\n",
       " 'lot of': 930,\n",
       " 'honest': 691,\n",
       " 'crooked': 357,\n",
       " 'state': 1468,\n",
       " 'general': 564,\n",
       " 'eric': 455,\n",
       " 'he should': 658,\n",
       " 'bigger': 208,\n",
       " 'out there': 1178,\n",
       " 'on me': 1141,\n",
       " 'me to': 985,\n",
       " 'to get': 1665,\n",
       " 'announced': 105,\n",
       " 'post': 1234,\n",
       " 'early': 435,\n",
       " 'was the': 1833,\n",
       " 'incredible': 763,\n",
       " 'service': 1414,\n",
       " 'interesting': 769,\n",
       " 'trump for': 1728,\n",
       " 'for president': 529,\n",
       " 'donald trump for': 417,\n",
       " 'trump for president': 1729,\n",
       " 'wish': 1920,\n",
       " 'pres': 1238,\n",
       " 'need': 1054,\n",
       " 'countries': 341,\n",
       " 'future': 560,\n",
       " 'children': 291,\n",
       " 'we need': 1848,\n",
       " 'do it': 399,\n",
       " 'into': 778,\n",
       " 'getting': 573,\n",
       " 'honor': 692,\n",
       " 'number': 1095,\n",
       " 'god': 584,\n",
       " 'america': 69,\n",
       " 'ny': 1097,\n",
       " 'in america': 737,\n",
       " 'for obama': 527,\n",
       " 'and his': 91,\n",
       " 'court': 349,\n",
       " 'university': 1779,\n",
       " 'will win': 1911,\n",
       " 'game': 561,\n",
       " 'was great': 1831,\n",
       " 'finally': 502,\n",
       " 'winner': 1916,\n",
       " 'website': 1856,\n",
       " 'event': 466,\n",
       " 'midas': 1002,\n",
       " 'touch': 1715,\n",
       " 'realdonaldtrump mr': 1310,\n",
       " 'trump has': 1730,\n",
       " 'has the': 641,\n",
       " 'midas touch': 1003,\n",
       " 'very nice': 1797,\n",
       " 'realdonaldtrump mr trump': 1311,\n",
       " 'hit': 688,\n",
       " 'power': 1237,\n",
       " 'sell': 1407,\n",
       " 'and thanks': 96,\n",
       " 'definitely': 382,\n",
       " 'rt': 1370,\n",
       " 'to my': 1677,\n",
       " 'movement': 1034,\n",
       " '000': 1,\n",
       " 'each': 434,\n",
       " 'wrong': 1950,\n",
       " 'the day': 1555,\n",
       " 'wind turbines': 1915,\n",
       " 'down the': 427,\n",
       " 'up to': 1784,\n",
       " 'via': 1800,\n",
       " 'idea': 717,\n",
       " 'county': 345,\n",
       " 'no more': 1081,\n",
       " 'let': 884,\n",
       " 'west': 1865,\n",
       " 'palm': 1185,\n",
       " 'beach': 184,\n",
       " 'thousands': 1644,\n",
       " 'palm beach': 1186,\n",
       " 'thousands of': 1645,\n",
       " 'scotland': 1394,\n",
       " 'become': 190,\n",
       " 'again': 41,\n",
       " 'in scotland': 752,\n",
       " 'he would': 661,\n",
       " 'wanted': 1825,\n",
       " 'tweets': 1770,\n",
       " 'you ll': 1978,\n",
       " 'international': 770,\n",
       " 'trump international': 1735,\n",
       " 'congratulations to': 323,\n",
       " 'available': 156,\n",
       " 'old': 1131,\n",
       " 'hotels': 702,\n",
       " 'old post': 1132,\n",
       " 'post office': 1235,\n",
       " 'it will': 825,\n",
       " 'will soon': 1910,\n",
       " 'old post office': 1133,\n",
       " 'gave': 563,\n",
       " 'luxury': 942,\n",
       " 'to build': 1663,\n",
       " 'joke': 843,\n",
       " 'went': 1863,\n",
       " 'me on': 984,\n",
       " 'golf course': 594,\n",
       " 'destroy': 388,\n",
       " 'the same': 1593,\n",
       " 'fight': 499,\n",
       " 'save': 1388,\n",
       " 'everyone': 470,\n",
       " 'make the': 956,\n",
       " 'truly': 1724,\n",
       " 'worst': 1941,\n",
       " 'our country': 1169,\n",
       " 'the worst': 1606,\n",
       " 'tell': 1515,\n",
       " 'success': 1484,\n",
       " 'do not': 400,\n",
       " 'apologize': 114,\n",
       " 'telling': 1516,\n",
       " 'lie': 889,\n",
       " 'announce': 104,\n",
       " 'mistake': 1017,\n",
       " 'plan': 1211,\n",
       " 'you like': 1977,\n",
       " 'budget': 236,\n",
       " 'be in': 174,\n",
       " 'will be in': 1899,\n",
       " 'supporters': 1490,\n",
       " 'press': 1250,\n",
       " 'the press': 1588,\n",
       " 'poll': 1229,\n",
       " 'took': 1711,\n",
       " 'chicago': 290,\n",
       " 'look at': 915,\n",
       " 'in chicago': 738,\n",
       " 'great again': 605,\n",
       " 'will be great': 1898,\n",
       " 'leadership': 875,\n",
       " '13': 6,\n",
       " 'dollars': 411,\n",
       " 'then': 1610,\n",
       " 'book': 224,\n",
       " 'the art': 1546,\n",
       " 'get it': 568,\n",
       " 'it and': 817,\n",
       " 'can do': 260,\n",
       " 'the art of': 1547,\n",
       " 'deals': 373,\n",
       " 'right': 1361,\n",
       " 'has been': 638,\n",
       " 'right now': 1362,\n",
       " 'make america': 953,\n",
       " 'america great': 70,\n",
       " 'make america great': 954,\n",
       " 'america great again': 71,\n",
       " 'reason': 1338,\n",
       " 'shows': 1427,\n",
       " 'the other': 1583,\n",
       " 'nuclear': 1094,\n",
       " 'iran': 781,\n",
       " 'deal with': 372,\n",
       " 'tom': 1704,\n",
       " 'player': 1215,\n",
       " 'needs': 1057,\n",
       " 'is good': 791,\n",
       " 'great guy': 608,\n",
       " 'country needs': 344,\n",
       " 'has done': 639,\n",
       " 'great job': 611,\n",
       " 'all the': 58,\n",
       " 'in our': 751,\n",
       " 'out of': 1175,\n",
       " 'out of the': 1176,\n",
       " 'leader': 873,\n",
       " 'syria': 1494,\n",
       " 'how much': 708,\n",
       " 'discussing': 395,\n",
       " 'running': 1375,\n",
       " 'democrats': 384,\n",
       " 'understand': 1774,\n",
       " 'election': 443,\n",
       " 'israel': 814,\n",
       " 'the last': 1573,\n",
       " 'gone': 596,\n",
       " 'read': 1279,\n",
       " 'we are': 1843,\n",
       " 'except': 473,\n",
       " 'come': 311,\n",
       " 'arizona': 131,\n",
       " 'end': 445,\n",
       " 'we have': 1846,\n",
       " 'have to': 652,\n",
       " 'than the': 1523,\n",
       " 'gets': 572,\n",
       " 'wouldn': 1948,\n",
       " 'feel': 496,\n",
       " 'using': 1790,\n",
       " 'talks': 1505,\n",
       " 'until': 1780,\n",
       " 'attack': 155,\n",
       " 'late': 869,\n",
       " 'for all': 518,\n",
       " 'weak': 1855,\n",
       " 'and you': 102,\n",
       " 'in this': 755,\n",
       " 'this country': 1636,\n",
       " 'they want': 1622,\n",
       " 'to take': 1687,\n",
       " 'only one': 1156,\n",
       " 'joe': 838,\n",
       " '100': 3,\n",
       " 'correct': 336,\n",
       " 'great time': 616,\n",
       " ...}"
      ]
     },
     "execution_count": 25,
     "metadata": {},
     "output_type": "execute_result"
    }
   ],
   "source": [
    "cv.vocabulary_"
   ]
  },
  {
   "cell_type": "code",
   "execution_count": 18,
   "metadata": {
    "collapsed": true
   },
   "outputs": [],
   "source": [
    "tfidf = TfidfVectorizer(max_features = 2000, ngram_range=(1,3))"
   ]
  },
  {
   "cell_type": "code",
   "execution_count": 19,
   "metadata": {
    "collapsed": false
   },
   "outputs": [],
   "source": [
    "tfidf_vector = tfidf.fit_transform(df.text.values)"
   ]
  },
  {
   "cell_type": "code",
   "execution_count": 20,
   "metadata": {
    "collapsed": false
   },
   "outputs": [
    {
     "data": {
      "text/plain": [
       "<30790x2000 sparse matrix of type '<class 'numpy.float64'>'\n",
       "\twith 462845 stored elements in Compressed Sparse Row format>"
      ]
     },
     "execution_count": 20,
     "metadata": {},
     "output_type": "execute_result"
    }
   ],
   "source": [
    "tfidf_vector"
   ]
  },
  {
   "cell_type": "code",
   "execution_count": 71,
   "metadata": {
    "collapsed": false
   },
   "outputs": [
    {
     "data": {
      "text/plain": [
       "matrix([[ 0.,  0.,  0., ...,  0.,  0.,  0.],\n",
       "        [ 0.,  0.,  0., ...,  0.,  0.,  0.],\n",
       "        [ 0.,  0.,  0., ...,  0.,  0.,  0.],\n",
       "        ..., \n",
       "        [ 0.,  0.,  0., ...,  0.,  0.,  0.],\n",
       "        [ 0.,  0.,  0., ...,  0.,  0.,  0.],\n",
       "        [ 0.,  0.,  0., ...,  0.,  0.,  0.]])"
      ]
     },
     "execution_count": 71,
     "metadata": {},
     "output_type": "execute_result"
    }
   ],
   "source": [
    "tfidf_vector.todense()"
   ]
  },
  {
   "cell_type": "code",
   "execution_count": 29,
   "metadata": {
    "collapsed": true
   },
   "outputs": [],
   "source": [
    "x_train, x_test, y_train, y_test = train_test_split(tfidf_vector.todense(), df.is_donald.values)"
   ]
  },
  {
   "cell_type": "code",
   "execution_count": 30,
   "metadata": {
    "collapsed": true
   },
   "outputs": [],
   "source": [
    "lr = LogisticRegression()\n",
    "rf = RandomForestClassifier(n_estimators=200, min_samples_leaf=5)\n",
    "et = ExtraTreesClassifier(min_samples_leaf=2)\n",
    "gb = GradientBoostingClassifier(max_depth=3, min_samples_leaf=6)\n",
    "ab = AdaBoostClassifier(n_estimators=10, base_estimator=lr)"
   ]
  },
  {
   "cell_type": "code",
   "execution_count": 62,
   "metadata": {
    "collapsed": true
   },
   "outputs": [],
   "source": [
    "lr_params = {\n",
    "    'penalty':['l1', 'l2'],\n",
    "    'C':[.01, .1, 1, 10, 100]\n",
    "}\n",
    "\n",
    "lr_grid = GridSearchCV(lr, lr_params, verbose=10, cv=3, n_jobs=-1, scoring=make_scorer(recall_score))"
   ]
  },
  {
   "cell_type": "code",
   "execution_count": 63,
   "metadata": {
    "collapsed": false,
    "scrolled": true
   },
   "outputs": [
    {
     "name": "stdout",
     "output_type": "stream",
     "text": [
      "Fitting 3 folds for each of 10 candidates, totalling 30 fits\n",
      "[CV] C=0.01, penalty=l1 ..............................................\n",
      "[CV] ............... C=0.01, penalty=l1, score=0.000000, total=   0.8s\n",
      "[CV] C=0.01, penalty=l1 ..............................................\n",
      "[CV] ............... C=0.01, penalty=l1, score=0.000000, total=   0.9s\n"
     ]
    },
    {
     "name": "stderr",
     "output_type": "stream",
     "text": [
      "[Parallel(n_jobs=-1)]: Done   2 tasks      | elapsed:    9.4s\n"
     ]
    },
    {
     "name": "stdout",
     "output_type": "stream",
     "text": [
      "[CV] C=0.01, penalty=l1 ..............................................\n",
      "[CV] ............... C=0.01, penalty=l1, score=0.000000, total=   0.7s\n",
      "[CV] C=0.01, penalty=l2 ..............................................\n",
      "[CV] ............... C=0.01, penalty=l2, score=0.000000, total=   0.9s\n",
      "[CV] C=0.01, penalty=l2 ..............................................\n",
      "[CV] ............... C=0.01, penalty=l2, score=0.000000, total=   0.7s\n",
      "[CV] C=0.01, penalty=l2 ..............................................\n",
      "[CV] ............... C=0.01, penalty=l2, score=0.000000, total=   0.7s\n",
      "[CV] C=0.1, penalty=l1 ...............................................\n",
      "[CV] ................ C=0.1, penalty=l1, score=0.023107, total=   0.7s\n",
      "[CV] C=0.1, penalty=l1 ...............................................\n",
      "[CV] ................ C=0.1, penalty=l1, score=0.062942, total=   0.7s\n",
      "[CV] C=0.1, penalty=l1 ...............................................\n",
      "[CV] ................ C=0.1, penalty=l1, score=0.054592, total=   0.8s\n"
     ]
    },
    {
     "name": "stderr",
     "output_type": "stream",
     "text": [
      "[Parallel(n_jobs=-1)]: Done   9 tasks      | elapsed:   38.8s\n"
     ]
    },
    {
     "name": "stdout",
     "output_type": "stream",
     "text": [
      "[CV] C=0.1, penalty=l2 ...............................................\n",
      "[CV] ................ C=0.1, penalty=l2, score=0.010911, total=   0.5s\n",
      "[CV] C=0.1, penalty=l2 ...............................................\n",
      "[CV] ................ C=0.1, penalty=l2, score=0.036609, total=   0.7s\n",
      "[CV] C=0.1, penalty=l2 ...............................................\n",
      "[CV] ................ C=0.1, penalty=l2, score=0.038536, total=   0.7s\n",
      "[CV] C=1, penalty=l1 .................................................\n",
      "[CV] .................. C=1, penalty=l1, score=0.186136, total=   0.9s\n",
      "[CV] C=1, penalty=l1 .................................................\n",
      "[CV] .................. C=1, penalty=l1, score=0.499679, total=   0.8s\n",
      "[CV] C=1, penalty=l1 .................................................\n",
      "[CV] .................. C=1, penalty=l1, score=0.556840, total=   0.8s\n",
      "[CV] C=1, penalty=l2 .................................................\n",
      "[CV] .................. C=1, penalty=l2, score=0.153402, total=   0.8s\n",
      "[CV] C=1, penalty=l2 .................................................\n",
      "[CV] .................. C=1, penalty=l2, score=0.434168, total=   0.7s\n",
      "[CV] C=1, penalty=l2 .................................................\n",
      "[CV] .................. C=1, penalty=l2, score=0.486191, total=   0.8s\n",
      "[CV] C=10, penalty=l1 ................................................\n",
      "[CV] ................. C=10, penalty=l1, score=0.275353, total=   1.0s\n"
     ]
    },
    {
     "name": "stderr",
     "output_type": "stream",
     "text": [
      "[Parallel(n_jobs=-1)]: Done  19 out of  30 | elapsed:  1.3min remaining:   46.8s\n"
     ]
    },
    {
     "name": "stdout",
     "output_type": "stream",
     "text": [
      "[CV] C=10, penalty=l1 ................................................\n",
      "[CV] ................. C=10, penalty=l1, score=0.574181, total=   1.0s\n",
      "[CV] C=10, penalty=l1 ................................................\n",
      "[CV] ................. C=10, penalty=l1, score=0.644188, total=   1.0s\n",
      "[CV] C=10, penalty=l2 ................................................\n",
      "[CV] ................. C=10, penalty=l2, score=0.244544, total=   0.8s\n",
      "[CV] C=10, penalty=l2 ................................................\n",
      "[CV] ................. C=10, penalty=l2, score=0.546564, total=   0.7s\n"
     ]
    },
    {
     "name": "stderr",
     "output_type": "stream",
     "text": [
      "[Parallel(n_jobs=-1)]: Done  23 out of  30 | elapsed:  1.6min remaining:   29.4s\n"
     ]
    },
    {
     "name": "stdout",
     "output_type": "stream",
     "text": [
      "[CV] C=10, penalty=l2 ................................................\n",
      "[CV] ................. C=10, penalty=l2, score=0.635196, total=   0.8s\n",
      "[CV] C=100, penalty=l1 ...............................................\n",
      "[CV] ................ C=100, penalty=l1, score=0.280488, total=   1.4s\n",
      "[CV] C=100, penalty=l1 ...............................................\n",
      "[CV] ................ C=100, penalty=l1, score=0.567759, total=   1.3s\n",
      "[CV] C=100, penalty=l1 ...............................................\n",
      "[CV] ................ C=100, penalty=l1, score=0.623635, total=   1.1s\n"
     ]
    },
    {
     "name": "stderr",
     "output_type": "stream",
     "text": [
      "[Parallel(n_jobs=-1)]: Done  27 out of  30 | elapsed:  1.9min remaining:   12.8s\n"
     ]
    },
    {
     "name": "stdout",
     "output_type": "stream",
     "text": [
      "[CV] C=100, penalty=l2 ...............................................\n",
      "[CV] ................ C=100, penalty=l2, score=0.277279, total=   0.8s\n",
      "[CV] C=100, penalty=l2 ...............................................\n",
      "[CV] ................ C=100, penalty=l2, score=0.565832, total=   0.7s\n",
      "[CV] C=100, penalty=l2 ...............................................\n",
      "[CV] ................ C=100, penalty=l2, score=0.627489, total=   0.6s\n"
     ]
    },
    {
     "name": "stderr",
     "output_type": "stream",
     "text": [
      "[Parallel(n_jobs=-1)]: Done  30 out of  30 | elapsed:  2.1min finished\n"
     ]
    },
    {
     "data": {
      "text/plain": [
       "GridSearchCV(cv=3, error_score='raise',\n",
       "       estimator=LogisticRegression(C=1.0, class_weight=None, dual=False, fit_intercept=True,\n",
       "          intercept_scaling=1, max_iter=100, multi_class='ovr', n_jobs=1,\n",
       "          penalty='l2', random_state=None, solver='liblinear', tol=0.0001,\n",
       "          verbose=0, warm_start=False),\n",
       "       fit_params={}, iid=True, n_jobs=-1,\n",
       "       param_grid={'penalty': ['l1', 'l2'], 'C': [0.01, 0.1, 1, 10, 100]},\n",
       "       pre_dispatch='2*n_jobs', refit=True, return_train_score=True,\n",
       "       scoring=make_scorer(recall_score), verbose=10)"
      ]
     },
     "execution_count": 63,
     "metadata": {},
     "output_type": "execute_result"
    }
   ],
   "source": [
    "lr_grid.fit(tfidf_vector.todense(), df.is_donald.values)"
   ]
  },
  {
   "cell_type": "code",
   "execution_count": 64,
   "metadata": {
    "collapsed": false
   },
   "outputs": [
    {
     "data": {
      "text/plain": [
       "LogisticRegression(C=10, class_weight=None, dual=False, fit_intercept=True,\n",
       "          intercept_scaling=1, max_iter=100, multi_class='ovr', n_jobs=1,\n",
       "          penalty='l1', random_state=None, solver='liblinear', tol=0.0001,\n",
       "          verbose=0, warm_start=False)"
      ]
     },
     "execution_count": 64,
     "metadata": {},
     "output_type": "execute_result"
    }
   ],
   "source": [
    "lr_grid.best_estimator_"
   ]
  },
  {
   "cell_type": "code",
   "execution_count": 65,
   "metadata": {
    "collapsed": false
   },
   "outputs": [
    {
     "name": "stdout",
     "output_type": "stream",
     "text": [
      "Base model score: 0.1517\n",
      "Training set score: 0.9324\n",
      "Test set score: 0.8942\n",
      "\n",
      "Confusion Matrix:\n",
      "       predicted_0  predicted_1\n",
      "is_0         6193          337\n",
      "is_1          477          691\n",
      "\n",
      "Classification Report:\n",
      "              precision    recall  f1-score   support\n",
      "\n",
      "          0       0.93      0.95      0.94      6530\n",
      "          1       0.67      0.59      0.63      1168\n",
      "\n",
      "avg / total       0.89      0.89      0.89      7698\n",
      "\n"
     ]
    }
   ],
   "source": [
    "run_model(x_train, y_train, x_test, y_test, lr_grid.best_estimator_)"
   ]
  },
  {
   "cell_type": "code",
   "execution_count": 106,
   "metadata": {
    "collapsed": true
   },
   "outputs": [],
   "source": [
    "rf_params = {\n",
    "    'n_estimators':[10,100],\n",
    "}\n",
    "\n",
    "rf_grid = GridSearchCV(rf, rf_params, verbose=10, cv=3, n_jobs=-1, scoring=make_scorer(recall_score))"
   ]
  },
  {
   "cell_type": "code",
   "execution_count": 107,
   "metadata": {
    "collapsed": false,
    "scrolled": true
   },
   "outputs": [
    {
     "name": "stdout",
     "output_type": "stream",
     "text": [
      "Fitting 3 folds for each of 2 candidates, totalling 6 fits\n",
      "[CV] n_estimators=10 .................................................\n",
      "[CV] n_estimators=10 .................................................\n",
      "[CV] .................. n_estimators=10, score=0.037227, total=   6.5s\n",
      "[CV] .................. n_estimators=10, score=0.184971, total=   4.7s\n",
      "[CV] n_estimators=10 .................................................\n"
     ]
    },
    {
     "name": "stderr",
     "output_type": "stream",
     "text": [
      "[Parallel(n_jobs=-1)]: Done   2 out of   6 | elapsed:   14.5s remaining:   28.9s\n"
     ]
    },
    {
     "name": "stdout",
     "output_type": "stream",
     "text": [
      "[CV] n_estimators=100 ................................................\n",
      "[CV] .................. n_estimators=10, score=0.208092, total=   5.8s\n"
     ]
    },
    {
     "name": "stderr",
     "output_type": "stream",
     "text": [
      "[Parallel(n_jobs=-1)]: Done   3 out of   6 | elapsed:   20.6s remaining:   20.6s\n"
     ]
    },
    {
     "name": "stdout",
     "output_type": "stream",
     "text": [
      "[CV] n_estimators=100 ................................................\n",
      "[CV] n_estimators=100 ................................................\n",
      "[CV] ................. n_estimators=100, score=0.179833, total=  36.9s\n"
     ]
    },
    {
     "name": "stderr",
     "output_type": "stream",
     "text": [
      "[Parallel(n_jobs=-1)]: Done   4 out of   6 | elapsed:  1.0min remaining:   31.3s\n"
     ]
    },
    {
     "name": "stdout",
     "output_type": "stream",
     "text": [
      "[CV] ................. n_estimators=100, score=0.023107, total=  48.4s\n",
      "[CV] ................. n_estimators=100, score=0.145151, total=  43.8s\n"
     ]
    },
    {
     "name": "stderr",
     "output_type": "stream",
     "text": [
      "[Parallel(n_jobs=-1)]: Done   6 out of   6 | elapsed:  1.2min remaining:    0.0s\n",
      "[Parallel(n_jobs=-1)]: Done   6 out of   6 | elapsed:  1.2min finished\n"
     ]
    },
    {
     "data": {
      "text/plain": [
       "GridSearchCV(cv=3, error_score='raise',\n",
       "       estimator=RandomForestClassifier(bootstrap=True, class_weight=None, criterion='gini',\n",
       "            max_depth=None, max_features='auto', max_leaf_nodes=None,\n",
       "            min_impurity_split=1e-07, min_samples_leaf=5,\n",
       "            min_samples_split=2, min_weight_fraction_leaf=0.0,\n",
       "            n_estimators=200, n_jobs=1, oob_score=False, random_state=None,\n",
       "            verbose=0, warm_start=False),\n",
       "       fit_params={}, iid=True, n_jobs=-1,\n",
       "       param_grid={'n_estimators': [10, 100]}, pre_dispatch='2*n_jobs',\n",
       "       refit=True, return_train_score=True,\n",
       "       scoring=make_scorer(recall_score), verbose=10)"
      ]
     },
     "execution_count": 107,
     "metadata": {},
     "output_type": "execute_result"
    }
   ],
   "source": [
    "rf_grid.fit(tfidf_vector.todense(), df.is_donald.values)"
   ]
  },
  {
   "cell_type": "code",
   "execution_count": 108,
   "metadata": {
    "collapsed": false
   },
   "outputs": [
    {
     "data": {
      "text/plain": [
       "RandomForestClassifier(bootstrap=True, class_weight=None, criterion='gini',\n",
       "            max_depth=None, max_features='auto', max_leaf_nodes=None,\n",
       "            min_impurity_split=1e-07, min_samples_leaf=5,\n",
       "            min_samples_split=2, min_weight_fraction_leaf=0.0,\n",
       "            n_estimators=10, n_jobs=1, oob_score=False, random_state=None,\n",
       "            verbose=0, warm_start=False)"
      ]
     },
     "execution_count": 108,
     "metadata": {},
     "output_type": "execute_result"
    }
   ],
   "source": [
    "rf_grid.best_estimator_"
   ]
  },
  {
   "cell_type": "code",
   "execution_count": 109,
   "metadata": {
    "collapsed": false
   },
   "outputs": [
    {
     "name": "stdout",
     "output_type": "stream",
     "text": [
      "Base model score: 0.1517\n",
      "Training set score: 0.8935\n",
      "Test set score: 0.8710\n",
      "Area under the curve: 0.89900269305\n",
      "\n",
      "Confusion Matrix:\n",
      "       predicted_0  predicted_1\n",
      "is_0         6480           50\n",
      "is_1          943          225\n",
      "\n",
      "Classification Report:\n",
      "              precision    recall  f1-score   support\n",
      "\n",
      "          0       0.87      0.99      0.93      6530\n",
      "          1       0.82      0.19      0.31      1168\n",
      "\n",
      "avg / total       0.86      0.87      0.84      7698\n",
      "\n"
     ]
    }
   ],
   "source": [
    "run_model(x_train, y_train, x_test, y_test, rf_grid.best_estimator_)"
   ]
  },
  {
   "cell_type": "code",
   "execution_count": 66,
   "metadata": {
    "collapsed": true
   },
   "outputs": [],
   "source": [
    "et_params = {\n",
    "    'min_samples_leaf':[2]\n",
    "}\n",
    "\n",
    "et_grid = GridSearchCV(et, et_params, verbose=10, cv=3, n_jobs=-1, scoring=make_scorer(recall_score))"
   ]
  },
  {
   "cell_type": "code",
   "execution_count": 67,
   "metadata": {
    "collapsed": false,
    "scrolled": true
   },
   "outputs": [
    {
     "name": "stdout",
     "output_type": "stream",
     "text": [
      "Fitting 3 folds for each of 1 candidates, totalling 3 fits\n",
      "[CV] min_samples_leaf=2 ..............................................\n",
      "[CV] min_samples_leaf=2 ..............................................\n",
      "[CV] min_samples_leaf=2 ..............................................\n",
      "[CV] ............... min_samples_leaf=2, score=0.059692, total=  13.8s\n",
      "[CV] ............... min_samples_leaf=2, score=0.250482, total=  11.7s\n",
      "[CV] ............... min_samples_leaf=2, score=0.217084, total=  12.9s\n"
     ]
    },
    {
     "name": "stderr",
     "output_type": "stream",
     "text": [
      "[Parallel(n_jobs=-1)]: Done   3 out of   3 | elapsed:   24.0s remaining:    0.0s\n",
      "[Parallel(n_jobs=-1)]: Done   3 out of   3 | elapsed:   24.0s finished\n"
     ]
    },
    {
     "data": {
      "text/plain": [
       "GridSearchCV(cv=3, error_score='raise',\n",
       "       estimator=ExtraTreesClassifier(bootstrap=False, class_weight=None, criterion='gini',\n",
       "           max_depth=None, max_features='auto', max_leaf_nodes=None,\n",
       "           min_impurity_split=1e-07, min_samples_leaf=2,\n",
       "           min_samples_split=2, min_weight_fraction_leaf=0.0,\n",
       "           n_estimators=10, n_jobs=1, oob_score=False, random_state=None,\n",
       "           verbose=0, warm_start=False),\n",
       "       fit_params={}, iid=True, n_jobs=-1,\n",
       "       param_grid={'min_samples_leaf': [2]}, pre_dispatch='2*n_jobs',\n",
       "       refit=True, return_train_score=True,\n",
       "       scoring=make_scorer(recall_score), verbose=10)"
      ]
     },
     "execution_count": 67,
     "metadata": {},
     "output_type": "execute_result"
    }
   ],
   "source": [
    "et_grid.fit(tfidf_vector.todense(), df.is_donald.values)"
   ]
  },
  {
   "cell_type": "code",
   "execution_count": 68,
   "metadata": {
    "collapsed": false
   },
   "outputs": [
    {
     "data": {
      "text/plain": [
       "ExtraTreesClassifier(bootstrap=False, class_weight=None, criterion='gini',\n",
       "           max_depth=None, max_features='auto', max_leaf_nodes=None,\n",
       "           min_impurity_split=1e-07, min_samples_leaf=2,\n",
       "           min_samples_split=2, min_weight_fraction_leaf=0.0,\n",
       "           n_estimators=10, n_jobs=1, oob_score=False, random_state=None,\n",
       "           verbose=0, warm_start=False)"
      ]
     },
     "execution_count": 68,
     "metadata": {},
     "output_type": "execute_result"
    }
   ],
   "source": [
    "et_grid.best_estimator_"
   ]
  },
  {
   "cell_type": "code",
   "execution_count": 69,
   "metadata": {
    "collapsed": false
   },
   "outputs": [
    {
     "name": "stdout",
     "output_type": "stream",
     "text": [
      "Base model score: 0.1517\n",
      "Training set score: 0.9508\n",
      "Test set score: 0.8768\n",
      "\n",
      "Confusion Matrix:\n",
      "       predicted_0  predicted_1\n",
      "is_0         6447           83\n",
      "is_1          865          303\n",
      "\n",
      "Classification Report:\n",
      "              precision    recall  f1-score   support\n",
      "\n",
      "          0       0.88      0.99      0.93      6530\n",
      "          1       0.78      0.26      0.39      1168\n",
      "\n",
      "avg / total       0.87      0.88      0.85      7698\n",
      "\n"
     ]
    }
   ],
   "source": [
    "run_model(x_train, y_train, x_test, y_test, et_grid.best_estimator_)"
   ]
  },
  {
   "cell_type": "code",
   "execution_count": null,
   "metadata": {
    "collapsed": true
   },
   "outputs": [],
   "source": []
  },
  {
   "cell_type": "code",
   "execution_count": 97,
   "metadata": {
    "collapsed": true
   },
   "outputs": [],
   "source": [
    "def run_model(x_train, y_train, x_test, y_test, model):\n",
    "    model.fit(x_train, y_train)\n",
    "    print (\"Base model score: \" + str(np.mean(y_test))[:6])\n",
    "    print (\"Training set score: \" + str(model.score(x_train, y_train))[:6])\n",
    "    print (\"Test set score: \" + str(model.score(x_test, y_test))[:6])\n",
    "    predictions = model.predict(x_test)\n",
    "    \n",
    "    y_score = model.predict_proba(x_test)\n",
    "    fpr, tpr, threshold = roc_curve(y_test, y_score[:, 1])\n",
    "    roc_auc = auc(fpr, tpr)\n",
    "    \n",
    "    print('Area under the curve: %s' % roc_auc)\n",
    "    print (\"\\nConfusion Matrix:\\n\", pd.DataFrame(confusion_matrix(y_test, predictions), \n",
    "                                              columns=['predicted_0', 'predicted_1'], index=['is_0', 'is_1']))\n",
    "    print (\"\\nClassification Report:\\n\",classification_report(y_test, predictions))"
   ]
  },
  {
   "cell_type": "code",
   "execution_count": 100,
   "metadata": {
    "collapsed": false
   },
   "outputs": [],
   "source": [
    "def run_model_2(x_train, y_train, x_test, y_test, model, threshold):\n",
    "    model.fit(x_train, y_train)\n",
    "    print (\"Base model score: \" + str(np.mean(y_test))[:6])\n",
    "    print (\"Training set score: \" + str(model.score(x_train, y_train))[:6])\n",
    "    print (\"Test set score: \" + str(model.score(x_test, y_test))[:6])\n",
    "    predictions = model.predict_proba(x_test)\n",
    "    predictions = [1 if x[1] > threshold else 0 for x in predictions]\n",
    "    \n",
    "    y_score = model.predict_proba(x_test)\n",
    "    fpr, tpr, threshold = roc_curve(y_test, y_score[:, 1])\n",
    "    roc_auc = auc(fpr, tpr)\n",
    "    \n",
    "    print('Area under the curve: %s' % roc_auc)\n",
    "    print (\"\\nConfusion Matrix:\\n\", pd.DataFrame(confusion_matrix(y_test, predictions), \n",
    "                                              columns=['predicted_0', 'predicted_1'], index=['is_0', 'is_1']))\n",
    "    print (\"\\nClassification Report:\\n\",classification_report(y_test, predictions))"
   ]
  },
  {
   "cell_type": "code",
   "execution_count": 75,
   "metadata": {
    "collapsed": true
   },
   "outputs": [],
   "source": [
    "model_names = ['xgb', 'lr', 'rf', 'et', 'gb', 'ab']"
   ]
  },
  {
   "cell_type": "code",
   "execution_count": 76,
   "metadata": {
    "collapsed": false
   },
   "outputs": [
    {
     "name": "stdout",
     "output_type": "stream",
     "text": [
      "Model:  XGBClassifier\n",
      "Hyperparameters: base_score=0.5, colsample_bylevel=1, colsample_bytree=1,\n",
      "       gamma=0, learning_rate=0.1, max_delta_step=0, max_depth=3,\n",
      "       min_child_weight=1, missing=None, n_estimators=100, nthread=-1,\n",
      "       objective='binary:logistic', reg_alpha=0, reg_lambda=1,\n",
      "       scale_pos_weight=1, seed=0, silent=True, subsample=1\n",
      "Base model score: 0.1509\n",
      "Training set score: 0.8665\n",
      "Test set score: 0.8665\n",
      "\n",
      "Confusion Matrix:\n",
      "       predicted_0  predicted_1\n",
      "is_0         6488           35\n",
      "is_1          990          170\n",
      "\n",
      "Classification Report:\n",
      "              precision    recall  f1-score   support\n",
      "\n",
      "          0       0.87      0.99      0.93      6523\n",
      "          1       0.83      0.15      0.25      1160\n",
      "\n",
      "avg / total       0.86      0.87      0.82      7683\n",
      "\n",
      "\n",
      "\n",
      "Model:  LogisticRegression\n",
      "Hyperparameters: C=1.0, class_weight=None, dual=False, fit_intercept=True,\n",
      "          intercept_scaling=1, max_iter=100, multi_class='ovr', n_jobs=1,\n",
      "          penalty='l2', random_state=None, solver='liblinear', tol=0.0001,\n",
      "          verbose=0, warm_start=False\n",
      "Base model score: 0.1509\n",
      "Training set score: 0.9078\n",
      "Test set score: 0.8953\n",
      "\n",
      "Confusion Matrix:\n",
      "       predicted_0  predicted_1\n",
      "is_0         6383          140\n",
      "is_1          664          496\n",
      "\n",
      "Classification Report:\n",
      "              precision    recall  f1-score   support\n",
      "\n",
      "          0       0.91      0.98      0.94      6523\n",
      "          1       0.78      0.43      0.55      1160\n",
      "\n",
      "avg / total       0.89      0.90      0.88      7683\n",
      "\n",
      "\n",
      "\n",
      "Model:  RandomForestClassifier\n",
      "Hyperparameters: bootstrap=True, class_weight=None, criterion='gini',\n",
      "            max_depth=None, max_features='auto', max_leaf_nodes=None,\n",
      "            min_impurity_split=1e-07, min_samples_leaf=5,\n",
      "            min_samples_split=2, min_weight_fraction_leaf=0.0,\n",
      "            n_estimators=200, n_jobs=1, oob_score=False, random_state=None,\n",
      "            verbose=0, warm_start=False\n",
      "Base model score: 0.1509\n",
      "Training set score: 0.8837\n",
      "Test set score: 0.8737\n",
      "\n",
      "Confusion Matrix:\n",
      "       predicted_0  predicted_1\n",
      "is_0         6453           70\n",
      "is_1          900          260\n",
      "\n",
      "Classification Report:\n",
      "              precision    recall  f1-score   support\n",
      "\n",
      "          0       0.88      0.99      0.93      6523\n",
      "          1       0.79      0.22      0.35      1160\n",
      "\n",
      "avg / total       0.86      0.87      0.84      7683\n",
      "\n",
      "\n",
      "\n",
      "Model:  ExtraTreesClassifier\n",
      "Hyperparameters: bootstrap=False, class_weight=None, criterion='gini',\n",
      "           max_depth=None, max_features='auto', max_leaf_nodes=None,\n",
      "           min_impurity_split=1e-07, min_samples_leaf=2,\n",
      "           min_samples_split=2, min_weight_fraction_leaf=0.0,\n",
      "           n_estimators=10, n_jobs=1, oob_score=False, random_state=None,\n",
      "           verbose=0, warm_start=False\n",
      "Base model score: 0.1509\n",
      "Training set score: 0.9139\n",
      "Test set score: 0.8727\n",
      "\n",
      "Confusion Matrix:\n",
      "       predicted_0  predicted_1\n",
      "is_0         6407          116\n",
      "is_1          862          298\n",
      "\n",
      "Classification Report:\n",
      "              precision    recall  f1-score   support\n",
      "\n",
      "          0       0.88      0.98      0.93      6523\n",
      "          1       0.72      0.26      0.38      1160\n",
      "\n",
      "avg / total       0.86      0.87      0.85      7683\n",
      "\n",
      "\n",
      "\n",
      "Model:  GradientBoostingClassifier\n",
      "Hyperparameters: criterion='friedman_mse', init=None,\n",
      "              learning_rate=0.1, loss='deviance', max_depth=3,\n",
      "              max_features=None, max_leaf_nodes=None,\n",
      "              min_impurity_split=1e-07, min_samples_leaf=6,\n",
      "              min_samples_split=2, min_weight_fraction_leaf=0.0,\n",
      "              n_estimators=100, presort='auto', random_state=None,\n",
      "              subsample=1.0, verbose=0, warm_start=False\n",
      "Base model score: 0.1509\n",
      "Training set score: 0.8746\n",
      "Test set score: 0.8704\n",
      "\n",
      "Confusion Matrix:\n",
      "       predicted_0  predicted_1\n",
      "is_0         6484           39\n",
      "is_1          956          204\n",
      "\n",
      "Classification Report:\n",
      "              precision    recall  f1-score   support\n",
      "\n",
      "          0       0.87      0.99      0.93      6523\n",
      "          1       0.84      0.18      0.29      1160\n",
      "\n",
      "avg / total       0.87      0.87      0.83      7683\n",
      "\n",
      "\n",
      "\n",
      "Model:  AdaBoostClassifier\n",
      "Hyperparameters: algorithm='SAMME.R',\n",
      "          base_estimator=LogisticRegression(C=1.0, class_weight=None, dual=False, fit_intercept=True,\n",
      "          intercept_scaling=1, max_iter=100, multi_class='ovr', n_jobs=1,\n",
      "          penalty='l2', random_state=None, solver='liblinear', tol=0.0001,\n",
      "          verbose=0, warm_start=False),\n",
      "          learning_rate=1.0, n_estimators=10, random_state=None\n",
      "Base model score: 0.1509\n",
      "Training set score: 0.8476\n",
      "Test set score: 0.8490\n",
      "\n",
      "Confusion Matrix:\n",
      "       predicted_0  predicted_1\n",
      "is_0         6523            0\n",
      "is_1         1160            0\n",
      "\n",
      "Classification Report:\n",
      "              precision    recall  f1-score   support\n",
      "\n",
      "          0       0.85      1.00      0.92      6523\n",
      "          1       0.00      0.00      0.00      1160\n",
      "\n",
      "avg / total       0.72      0.85      0.78      7683\n",
      "\n",
      "\n",
      "\n"
     ]
    },
    {
     "name": "stderr",
     "output_type": "stream",
     "text": [
      "//anaconda/lib/python3.6/site-packages/sklearn/metrics/classification.py:1113: UndefinedMetricWarning: Precision and F-score are ill-defined and being set to 0.0 in labels with no predicted samples.\n",
      "  'precision', 'predicted', average, warn_for)\n"
     ]
    }
   ],
   "source": [
    "models = [lr, rf, et]\n",
    "\n",
    "### xgb, gb, ab\n",
    "\n",
    "\n",
    "for model in models:\n",
    "    print (\"Model: \", str(model).split(\"(\")[0])\n",
    "    print (\"Hyperparameters: \" + str(model)[len(str(model).split(\"(\")[0])+1:-1])\n",
    "    run_model(x_train, y_train, x_test, y_test, model)\n",
    "    print (\"\\n\")"
   ]
  },
  {
   "cell_type": "code",
   "execution_count": null,
   "metadata": {
    "collapsed": true
   },
   "outputs": [],
   "source": [
    "fo = open('data/test_text.txt', 'r')"
   ]
  },
  {
   "cell_type": "code",
   "execution_count": null,
   "metadata": {
    "collapsed": false
   },
   "outputs": [],
   "source": [
    "fo.name"
   ]
  },
  {
   "cell_type": "code",
   "execution_count": null,
   "metadata": {
    "collapsed": false
   },
   "outputs": [],
   "source": [
    "test_list = fo.readlines()\n",
    "test_list"
   ]
  },
  {
   "cell_type": "code",
   "execution_count": null,
   "metadata": {
    "collapsed": false
   },
   "outputs": [],
   "source": [
    "final_list = []\n",
    "\n",
    "for x in test_list:\n",
    "    final_list.append(x.strip())\n",
    "    \n",
    "final_list\n",
    "    "
   ]
  },
  {
   "cell_type": "code",
   "execution_count": null,
   "metadata": {
    "collapsed": true
   },
   "outputs": [],
   "source": [
    "fo.close()"
   ]
  },
  {
   "cell_type": "code",
   "execution_count": null,
   "metadata": {
    "collapsed": false
   },
   "outputs": [],
   "source": [
    "test_array = np.array(final_list)\n",
    "test_array"
   ]
  },
  {
   "cell_type": "code",
   "execution_count": null,
   "metadata": {
    "collapsed": false
   },
   "outputs": [],
   "source": [
    "test_array.shape"
   ]
  },
  {
   "cell_type": "code",
   "execution_count": null,
   "metadata": {
    "collapsed": true
   },
   "outputs": [],
   "source": [
    "test_vector = tfidf.transform(test_array)"
   ]
  },
  {
   "cell_type": "code",
   "execution_count": null,
   "metadata": {
    "collapsed": false
   },
   "outputs": [],
   "source": [
    "np.mean(xgb.predict(test_vector))"
   ]
  },
  {
   "cell_type": "code",
   "execution_count": null,
   "metadata": {
    "collapsed": false
   },
   "outputs": [],
   "source": [
    "predictions = xgb.predict(test_vector)\n",
    "predict_proba = xgb.predict_proba(test_vector)\n",
    "\n",
    "for x, y in zip(test_array, predict_proba):\n",
    "    if y[1] > 0.85:\n",
    "        print(x, y[1], '\\n')"
   ]
  },
  {
   "cell_type": "code",
   "execution_count": 82,
   "metadata": {
    "collapsed": false
   },
   "outputs": [
    {
     "data": {
      "text/plain": [
       "[('xgb', XGBClassifier(base_score=0.5, colsample_bylevel=1, colsample_bytree=1,\n",
       "         gamma=0, learning_rate=0.1, max_delta_step=0, max_depth=3,\n",
       "         min_child_weight=1, missing=None, n_estimators=100, nthread=-1,\n",
       "         objective='binary:logistic', reg_alpha=0, reg_lambda=1,\n",
       "         scale_pos_weight=1, seed=0, silent=True, subsample=1)),\n",
       " ('lr',\n",
       "  LogisticRegression(C=1.0, class_weight=None, dual=False, fit_intercept=True,\n",
       "            intercept_scaling=1, max_iter=100, multi_class='ovr', n_jobs=1,\n",
       "            penalty='l2', random_state=None, solver='liblinear', tol=0.0001,\n",
       "            verbose=0, warm_start=False)),\n",
       " ('rf',\n",
       "  RandomForestClassifier(bootstrap=True, class_weight=None, criterion='gini',\n",
       "              max_depth=None, max_features='auto', max_leaf_nodes=None,\n",
       "              min_impurity_split=1e-07, min_samples_leaf=5,\n",
       "              min_samples_split=2, min_weight_fraction_leaf=0.0,\n",
       "              n_estimators=200, n_jobs=1, oob_score=False, random_state=None,\n",
       "              verbose=0, warm_start=False)),\n",
       " ('et',\n",
       "  ExtraTreesClassifier(bootstrap=False, class_weight=None, criterion='gini',\n",
       "             max_depth=None, max_features='auto', max_leaf_nodes=None,\n",
       "             min_impurity_split=1e-07, min_samples_leaf=2,\n",
       "             min_samples_split=2, min_weight_fraction_leaf=0.0,\n",
       "             n_estimators=10, n_jobs=1, oob_score=False, random_state=None,\n",
       "             verbose=0, warm_start=False)),\n",
       " ('gb', GradientBoostingClassifier(criterion='friedman_mse', init=None,\n",
       "                learning_rate=0.1, loss='deviance', max_depth=3,\n",
       "                max_features=None, max_leaf_nodes=None,\n",
       "                min_impurity_split=1e-07, min_samples_leaf=6,\n",
       "                min_samples_split=2, min_weight_fraction_leaf=0.0,\n",
       "                n_estimators=100, presort='auto', random_state=None,\n",
       "                subsample=1.0, verbose=0, warm_start=False)),\n",
       " ('ab', AdaBoostClassifier(algorithm='SAMME.R',\n",
       "            base_estimator=LogisticRegression(C=1.0, class_weight=None, dual=False, fit_intercept=True,\n",
       "            intercept_scaling=1, max_iter=100, multi_class='ovr', n_jobs=1,\n",
       "            penalty='l2', random_state=None, solver='liblinear', tol=0.0001,\n",
       "            verbose=0, warm_start=False),\n",
       "            learning_rate=1.0, n_estimators=10, random_state=None))]"
      ]
     },
     "execution_count": 82,
     "metadata": {},
     "output_type": "execute_result"
    }
   ],
   "source": [
    "estimators = list(zip(model_names, models))\n",
    "estimators"
   ]
  },
  {
   "cell_type": "code",
   "execution_count": 103,
   "metadata": {
    "collapsed": false
   },
   "outputs": [],
   "source": [
    "vc = VotingClassifier([('lr',lr_grid.best_estimator_), \n",
    "                       ('rf',rf_grid.best_estimator_), \n",
    "                       ('et',et_grid.best_estimator_)], \n",
    "                      voting='soft', \n",
    "                      n_jobs=-1,\n",
    "                     weights=[.7,.15,.15])"
   ]
  },
  {
   "cell_type": "code",
   "execution_count": 104,
   "metadata": {
    "collapsed": false
   },
   "outputs": [
    {
     "name": "stdout",
     "output_type": "stream",
     "text": [
      "Base model score: 0.1517\n",
      "Training set score: 0.9385\n",
      "Test set score: 0.8981\n",
      "Area under the curve: 0.932260549309\n",
      "\n",
      "Confusion Matrix:\n",
      "       predicted_0  predicted_1\n",
      "is_0         6268          262\n",
      "is_1          522          646\n",
      "\n",
      "Classification Report:\n",
      "              precision    recall  f1-score   support\n",
      "\n",
      "          0       0.92      0.96      0.94      6530\n",
      "          1       0.71      0.55      0.62      1168\n",
      "\n",
      "avg / total       0.89      0.90      0.89      7698\n",
      "\n"
     ]
    }
   ],
   "source": [
    "run_model(x_train, y_train, x_test, y_test, vc)"
   ]
  },
  {
   "cell_type": "code",
   "execution_count": 102,
   "metadata": {
    "collapsed": false
   },
   "outputs": [
    {
     "name": "stdout",
     "output_type": "stream",
     "text": [
      "Base model score: 0.1517\n",
      "Training set score: 0.9398\n",
      "Test set score: 0.8971\n",
      "Area under the curve: 0.932295294111\n",
      "\n",
      "Confusion Matrix:\n",
      "       predicted_0  predicted_1\n",
      "is_0         6017          513\n",
      "is_1          327          841\n",
      "\n",
      "Classification Report:\n",
      "              precision    recall  f1-score   support\n",
      "\n",
      "          0       0.95      0.92      0.93      6530\n",
      "          1       0.62      0.72      0.67      1168\n",
      "\n",
      "avg / total       0.90      0.89      0.89      7698\n",
      "\n"
     ]
    }
   ],
   "source": [
    "run_model_2(x_train, y_train, x_test, y_test, vc, .3)"
   ]
  },
  {
   "cell_type": "code",
   "execution_count": 79,
   "metadata": {
    "collapsed": false
   },
   "outputs": [
    {
     "data": {
      "text/plain": [
       "array([[ 0.81215685,  0.18784315],\n",
       "       [ 0.94626694,  0.05373306],\n",
       "       [ 0.99356533,  0.00643467],\n",
       "       [ 0.88447081,  0.11552919],\n",
       "       [ 0.72407229,  0.27592771],\n",
       "       [ 0.94722238,  0.05277762],\n",
       "       [ 0.49827431,  0.50172569],\n",
       "       [ 0.94861169,  0.05138831],\n",
       "       [ 0.93017674,  0.06982326],\n",
       "       [ 0.87334954,  0.12665046]])"
      ]
     },
     "execution_count": 79,
     "metadata": {},
     "output_type": "execute_result"
    }
   ],
   "source": [
    "vc.predict_proba(x_train[:10])"
   ]
  },
  {
   "cell_type": "code",
   "execution_count": 81,
   "metadata": {
    "collapsed": false
   },
   "outputs": [
    {
     "data": {
      "text/plain": [
       "(<1x10484 sparse matrix of type '<class 'numpy.int64'>'\n",
       " \twith 380 stored elements in Compressed Sparse Row format>,\n",
       " array([    0,  1057,  2060,  3233,  4386,  5433,  6412,  7437,  8472,\n",
       "         9469, 10484]))"
      ]
     },
     "execution_count": 81,
     "metadata": {},
     "output_type": "execute_result"
    }
   ],
   "source": [
    "rf_grid.best_estimator_.decision_path(x_train[1])"
   ]
  },
  {
   "cell_type": "code",
   "execution_count": 110,
   "metadata": {
    "collapsed": false
   },
   "outputs": [
    {
     "data": {
      "text/plain": [
       "['lr_model.pkl']"
      ]
     },
     "execution_count": 110,
     "metadata": {},
     "output_type": "execute_result"
    }
   ],
   "source": [
    "joblib.dump(lr, 'lr_model.pkl')"
   ]
  },
  {
   "cell_type": "code",
   "execution_count": 111,
   "metadata": {
    "collapsed": false
   },
   "outputs": [
    {
     "data": {
      "text/plain": [
       "['tfidf.pkl']"
      ]
     },
     "execution_count": 111,
     "metadata": {},
     "output_type": "execute_result"
    }
   ],
   "source": [
    "joblib.dump(tfidf, 'tfidf.pkl')"
   ]
  },
  {
   "cell_type": "code",
   "execution_count": 105,
   "metadata": {
    "collapsed": false
   },
   "outputs": [
    {
     "data": {
      "image/png": "[encoded data removed]",
      "text/plain": [
       "<matplotlib.figure.Figure at 0x124123c88>"
      ]
     },
     "metadata": {},
     "output_type": "display_data"
    }
   ],
   "source": [
    "# calculate the fpr and tpr for all thresholds of the classification\n",
    "probs = vc.predict_proba(x_test)\n",
    "preds = probs[:,1]\n",
    "fpr, tpr, threshold = roc_curve(y_test, preds)\n",
    "roc_auc = auc(fpr, tpr)\n",
    "\n",
    "# method I: plt\n",
    "import matplotlib.pyplot as plt\n",
    "plt.title('Receiver Operating Characteristic')\n",
    "plt.plot(fpr, tpr, 'b', label = 'AUC = %0.2f' % roc_auc)\n",
    "plt.legend(loc = 'lower right')\n",
    "plt.plot([0, 1], [0, 1],'r--')\n",
    "plt.xlim([0, 1])\n",
    "plt.ylim([0, 1])\n",
    "plt.ylabel('True Positive Rate')\n",
    "plt.xlabel('False Positive Rate')\n",
    "plt.show()"
   ]
  },
  {
   "cell_type": "code",
   "execution_count": 90,
   "metadata": {
    "collapsed": false
   },
   "outputs": [
    {
     "name": "stdout",
     "output_type": "stream",
     "text": [
      "Base model score: 0.1517\n",
      "Training set score: 0.9397\n",
      "Test set score: 0.8962\n",
      "Area under the curve: 0.930775307328\n",
      "\n",
      "Confusion Matrix:\n",
      "       predicted_0  predicted_1\n",
      "is_0         6424          106\n",
      "is_1          693          475\n",
      "\n",
      "Classification Report:\n",
      "              precision    recall  f1-score   support\n",
      "\n",
      "          0       0.90      0.98      0.94      6530\n",
      "          1       0.82      0.41      0.54      1168\n",
      "\n",
      "avg / total       0.89      0.90      0.88      7698\n",
      "\n"
     ]
    }
   ],
   "source": [
    "run_model(x_train, y_train, x_test, y_test, vc)"
   ]
  },
  {
   "cell_type": "code",
   "execution_count": 91,
   "metadata": {
    "collapsed": false
   },
   "outputs": [
    {
     "data": {
      "image/png": "[encoded data removed]",
      "text/plain": [
       "<matplotlib.figure.Figure at 0x1242e5c88>"
      ]
     },
     "metadata": {},
     "output_type": "display_data"
    }
   ],
   "source": [
    "# calculate the fpr and tpr for all thresholds of the classification\n",
    "probs = lr_grid.best_estimator_.predict_proba(x_test)\n",
    "preds = probs[:,1]\n",
    "fpr, tpr, threshold = roc_curve(y_test, preds)\n",
    "roc_auc = auc(fpr, tpr)\n",
    "\n",
    "# method I: plt\n",
    "import matplotlib.pyplot as plt\n",
    "plt.title('Receiver Operating Characteristic')\n",
    "plt.plot(fpr, tpr, 'b', label = 'AUC = %0.2f' % roc_auc)\n",
    "plt.legend(loc = 'lower right')\n",
    "plt.plot([0, 1], [0, 1],'r--')\n",
    "plt.xlim([0, 1])\n",
    "plt.ylim([0, 1])\n",
    "plt.ylabel('True Positive Rate')\n",
    "plt.xlabel('False Positive Rate')\n",
    "plt.show()"
   ]
  },
  {
   "cell_type": "code",
   "execution_count": 92,
   "metadata": {
    "collapsed": false
   },
   "outputs": [
    {
     "data": {
      "image/png": "[encoded data removed]",
      "text/plain": [
       "<matplotlib.figure.Figure at 0x11ccd08d0>"
      ]
     },
     "metadata": {},
     "output_type": "display_data"
    }
   ],
   "source": [
    "# calculate the fpr and tpr for all thresholds of the classification\n",
    "probs = rf_grid.best_estimator_.predict_proba(x_test)\n",
    "preds = probs[:,1]\n",
    "fpr, tpr, threshold = roc_curve(y_test, preds)\n",
    "roc_auc = auc(fpr, tpr)\n",
    "\n",
    "# method I: plt\n",
    "import matplotlib.pyplot as plt\n",
    "plt.title('Receiver Operating Characteristic')\n",
    "plt.plot(fpr, tpr, 'b', label = 'AUC = %0.2f' % roc_auc)\n",
    "plt.legend(loc = 'lower right')\n",
    "plt.plot([0, 1], [0, 1],'r--')\n",
    "plt.xlim([0, 1])\n",
    "plt.ylim([0, 1])\n",
    "plt.ylabel('True Positive Rate')\n",
    "plt.xlabel('False Positive Rate')\n",
    "plt.show()"
   ]
  },
  {
   "cell_type": "code",
   "execution_count": null,
   "metadata": {
    "collapsed": true
   },
   "outputs": [],
   "source": []
  }
 ],
 "metadata": {
  "kernelspec": {
   "display_name": "Python 3",
   "language": "python",
   "name": "python3"
  },
  "language_info": {
   "codemirror_mode": {
    "name": "ipython",
    "version": 3
   },
   "file_extension": ".py",
   "mimetype": "text/x-python",
   "name": "python",
   "nbconvert_exporter": "python",
   "pygments_lexer": "ipython3",
   "version": "3.6.0"
  }
 },
 "nbformat": 4,
 "nbformat_minor": 2
}
